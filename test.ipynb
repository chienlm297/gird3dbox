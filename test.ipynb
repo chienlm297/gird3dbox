{
 "cells": [
  {
   "cell_type": "code",
   "execution_count": 1,
   "metadata": {},
   "outputs": [],
   "source": [
    "import numpy as np"
   ]
  },
  {
   "cell_type": "code",
   "execution_count": 10,
   "metadata": {},
   "outputs": [],
   "source": [
    "rows = 2\n",
    "cols = 2\n",
    "a = np.mgrid[0:rows, 0:cols, 0:3]"
   ]
  },
  {
   "cell_type": "code",
   "execution_count": 11,
   "metadata": {},
   "outputs": [
    {
     "name": "stdout",
     "output_type": "stream",
     "text": [
      "(3, 2, 2, 3)\n"
     ]
    },
    {
     "data": {
      "text/plain": [
       "array([[[[0, 0, 0],\n",
       "         [0, 0, 0]],\n",
       "\n",
       "        [[1, 1, 1],\n",
       "         [1, 1, 1]]],\n",
       "\n",
       "\n",
       "       [[[0, 0, 0],\n",
       "         [1, 1, 1]],\n",
       "\n",
       "        [[0, 0, 0],\n",
       "         [1, 1, 1]]],\n",
       "\n",
       "\n",
       "       [[[0, 1, 2],\n",
       "         [0, 1, 2]],\n",
       "\n",
       "        [[0, 1, 2],\n",
       "         [0, 1, 2]]]])"
      ]
     },
     "execution_count": 11,
     "metadata": {},
     "output_type": "execute_result"
    }
   ],
   "source": [
    "print(a.shape)\n",
    "a"
   ]
  },
  {
   "cell_type": "code",
   "execution_count": 12,
   "metadata": {},
   "outputs": [
    {
     "data": {
      "text/plain": [
       "array([[[[0, 0, 0],\n",
       "         [1, 0, 0]],\n",
       "\n",
       "        [[0, 1, 0],\n",
       "         [1, 1, 0]]],\n",
       "\n",
       "\n",
       "       [[[0, 0, 1],\n",
       "         [1, 0, 1]],\n",
       "\n",
       "        [[0, 1, 1],\n",
       "         [1, 1, 1]]],\n",
       "\n",
       "\n",
       "       [[[0, 0, 2],\n",
       "         [1, 0, 2]],\n",
       "\n",
       "        [[0, 1, 2],\n",
       "         [1, 1, 2]]]])"
      ]
     },
     "execution_count": 12,
     "metadata": {},
     "output_type": "execute_result"
    }
   ],
   "source": [
    "a.T"
   ]
  },
  {
   "cell_type": "code",
   "execution_count": 14,
   "metadata": {},
   "outputs": [
    {
     "name": "stdout",
     "output_type": "stream",
     "text": [
      "(12, 1, 3)\n",
      "[[[0 0 0]]\n",
      "\n",
      " [[1 0 0]]\n",
      "\n",
      " [[0 1 0]]\n",
      "\n",
      " [[1 1 0]]\n",
      "\n",
      " [[0 0 1]]\n",
      "\n",
      " [[1 0 1]]\n",
      "\n",
      " [[0 1 1]]\n",
      "\n",
      " [[1 1 1]]\n",
      "\n",
      " [[0 0 2]]\n",
      "\n",
      " [[1 0 2]]\n",
      "\n",
      " [[0 1 2]]\n",
      "\n",
      " [[1 1 2]]]\n"
     ]
    }
   ],
   "source": [
    "newa = a.T.reshape(-1, 1, 3)\n",
    "print(newa.shape)\n",
    "print(newa)"
   ]
  },
  {
   "cell_type": "code",
   "execution_count": 7,
   "metadata": {},
   "outputs": [
    {
     "name": "stdout",
     "output_type": "stream",
     "text": [
      "[[[0. 0. 0.]]\n",
      "\n",
      " [[1. 0. 0.]]\n",
      "\n",
      " [[0. 1. 0.]]\n",
      "\n",
      " [[1. 1. 0.]]]\n"
     ]
    }
   ],
   "source": [
    "objectPoints = np.zeros((rows * cols, 1, 3), np.float32)\n",
    "objectPoints[:, :, :2] = np.mgrid[0:rows, 0:cols].T.reshape(-1, 1, 2)\n",
    "print(objectPoints)"
   ]
  },
  {
   "cell_type": "code",
   "execution_count": 8,
   "metadata": {},
   "outputs": [
    {
     "data": {
      "text/plain": [
       "(4, 1, 3)"
      ]
     },
     "execution_count": 8,
     "metadata": {},
     "output_type": "execute_result"
    }
   ],
   "source": [
    "objectPoints.shape"
   ]
  },
  {
   "cell_type": "code",
   "execution_count": 17,
   "metadata": {},
   "outputs": [
    {
     "data": {
      "text/plain": [
       "(3, 4, 3)"
      ]
     },
     "execution_count": 17,
     "metadata": {},
     "output_type": "execute_result"
    }
   ],
   "source": [
    "newa = newa.reshape(-1, 4, 3)\n",
    "newa.shape"
   ]
  },
  {
   "cell_type": "code",
   "execution_count": 2,
   "metadata": {},
   "outputs": [],
   "source": [
    "import numpy as np\n",
    "with np.load(\"../data/calib.npz\") as calibData:\n",
    "    mtx, dist, rvecs, tvecs = [calibData[i] for i in (\"mtx\", \"dist\", \"rvecs\", \"tvecs\")]"
   ]
  },
  {
   "cell_type": "code",
   "execution_count": 3,
   "metadata": {},
   "outputs": [
    {
     "data": {
      "text/plain": [
       "array([[503.68477278,   0.        , 313.67563673],\n",
       "       [  0.        , 503.37989194, 243.25575477],\n",
       "       [  0.        ,   0.        ,   1.        ]])"
      ]
     },
     "execution_count": 3,
     "metadata": {},
     "output_type": "execute_result"
    }
   ],
   "source": [
    "mtx"
   ]
  },
  {
   "cell_type": "code",
   "execution_count": 4,
   "metadata": {},
   "outputs": [
    {
     "data": {
      "text/plain": [
       "array([[ 2.08346324e-01, -4.68650267e-01,  4.51079184e-04,\n",
       "        -1.93373894e-03,  2.37592401e-01]])"
      ]
     },
     "execution_count": 4,
     "metadata": {},
     "output_type": "execute_result"
    }
   ],
   "source": [
    "dist"
   ]
  },
  {
   "cell_type": "code",
   "execution_count": 5,
   "metadata": {},
   "outputs": [
    {
     "data": {
      "text/plain": [
       "array([[ 2.08346324e-01, -4.68650267e-01,  4.51079184e-04,\n",
       "        -1.93373894e-03,  2.37592401e-01]])"
      ]
     },
     "execution_count": 5,
     "metadata": {},
     "output_type": "execute_result"
    }
   ],
   "source": [
    "dist"
   ]
  },
  {
   "cell_type": "code",
   "execution_count": 7,
   "metadata": {},
   "outputs": [
    {
     "data": {
      "text/plain": [
       "(32, 3, 1)"
      ]
     },
     "execution_count": 7,
     "metadata": {},
     "output_type": "execute_result"
    }
   ],
   "source": [
    "rvecs.shape"
   ]
  },
  {
   "cell_type": "code",
   "execution_count": 8,
   "metadata": {},
   "outputs": [
    {
     "data": {
      "text/plain": [
       "(32, 3, 1)"
      ]
     },
     "execution_count": 8,
     "metadata": {},
     "output_type": "execute_result"
    }
   ],
   "source": [
    "tvecs.shape"
   ]
  },
  {
   "cell_type": "code",
   "execution_count": null,
   "metadata": {},
   "outputs": [],
   "source": []
  }
 ],
 "metadata": {
  "interpreter": {
   "hash": "fe41315e76619573d5addc27d4ed4430ad48fe50c34b19a068a5e09d314969fa"
  },
  "kernelspec": {
   "display_name": "Python 3.6.9 64-bit ('deploy': conda)",
   "name": "python3"
  },
  "language_info": {
   "codemirror_mode": {
    "name": "ipython",
    "version": 3
   },
   "file_extension": ".py",
   "mimetype": "text/x-python",
   "name": "python",
   "nbconvert_exporter": "python",
   "pygments_lexer": "ipython3",
   "version": "3.6.9"
  },
  "orig_nbformat": 4
 },
 "nbformat": 4,
 "nbformat_minor": 2
}
